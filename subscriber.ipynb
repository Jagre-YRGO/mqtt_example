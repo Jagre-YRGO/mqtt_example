{
 "cells": [
  {
   "cell_type": "code",
   "execution_count": 1,
   "id": "2d69f99e",
   "metadata": {},
   "outputs": [],
   "source": [
    "import paho.mqtt.client as mqtt"
   ]
  },
  {
   "cell_type": "code",
   "execution_count": 2,
   "id": "3c9b2851",
   "metadata": {},
   "outputs": [],
   "source": [
    "# Enligt dokumentation https://pypi.org/project/paho-mqtt/#callbacks\n",
    "def client_on_connect(client, data, flags, return_code):\n",
    "    if return_code == 1:\n",
    "        print('Could not connect \\n')\n",
    "    else:\n",
    "        print('Connect ed successfully! \\n')\n",
    "    return \n"
   ]
  },
  {
   "cell_type": "code",
   "execution_count": 3,
   "id": "7f73ea46",
   "metadata": {},
   "outputs": [],
   "source": [
    "def client_on_message(client, data, message):\n",
    "    s =  message.payload.decode(\"utf-8\")\n",
    "    print('received message:' + s + ' from topic:' + message.topic + '\\n')\n",
    "    return"
   ]
  },
  {
   "cell_type": "code",
   "execution_count": 4,
   "id": "f2e28f2f",
   "metadata": {},
   "outputs": [],
   "source": [
    "def client_on_dissconnect(client, userdata, rc):\n",
    "    print('discconnected\\n')\n",
    "    return"
   ]
  },
  {
   "cell_type": "code",
   "execution_count": null,
   "id": "bb435489",
   "metadata": {},
   "outputs": [
    {
     "name": "stdout",
     "output_type": "stream",
     "text": [
      "Connect ed successfully! \n",
      "\n",
      "received message:Erik from topic:yrgo/com\n",
      "\n",
      "received message:haha from topic:yrgo/com\n",
      "\n",
      "received message:ser du detta? from topic:yrgo/com\n",
      "\n",
      "ppp\n",
      ".\n",
      "nnn\n",
      ".\n",
      " \n",
      "discconnected\n",
      "\n"
     ]
    }
   ],
   "source": [
    "import time\n",
    "\n",
    "subscriber1 = mqtt.Client()\n",
    "subscriber1.on_connect = client_on_connect\n",
    "subscriber1.on_message = client_on_message\n",
    "subscriber1.on_disconnect = client_on_dissconnect\n",
    "subscriber1.connect(host=\"broker.hivemq.com\", port=1883)\n",
    "\n",
    "subscriber1.loop_start()\n",
    "\n",
    "subscriber1.subscribe(topic='yrgo/com', qos=1)\n",
    "\n",
    "while True:\n",
    "    s = input()\n",
    "    if s == ' ':\n",
    "        subscriber1.disconnect()\n",
    "    else:\n",
    "        print('.')\n",
    "        \n",
    "return\n"
   ]
  },
  {
   "cell_type": "code",
   "execution_count": null,
   "id": "d6eae078",
   "metadata": {},
   "outputs": [],
   "source": []
  }
 ],
 "metadata": {
  "kernelspec": {
   "display_name": "Python 3 (ipykernel)",
   "language": "python",
   "name": "python3"
  },
  "language_info": {
   "codemirror_mode": {
    "name": "ipython",
    "version": 3
   },
   "file_extension": ".py",
   "mimetype": "text/x-python",
   "name": "python",
   "nbconvert_exporter": "python",
   "pygments_lexer": "ipython3",
   "version": "3.9.10"
  }
 },
 "nbformat": 4,
 "nbformat_minor": 5
}
